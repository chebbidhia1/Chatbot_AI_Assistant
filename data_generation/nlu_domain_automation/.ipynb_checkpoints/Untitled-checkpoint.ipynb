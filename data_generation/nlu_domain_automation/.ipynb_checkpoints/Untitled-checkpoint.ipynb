{
 "cells": [
  {
   "cell_type": "code",
   "execution_count": 24,
   "metadata": {},
   "outputs": [],
   "source": [
    "import pandas as pd\n",
    "import re"
   ]
  },
  {
   "cell_type": "code",
   "execution_count": 225,
   "metadata": {},
   "outputs": [],
   "source": [
    "def find_msgs_by_intent_from_nlu(chemin,intent):\n",
    "    f = open(chemin)\n",
    "    lignes_pret=[]\n",
    "    lignes=[]\n",
    "    for each in f:\n",
    "        if each.startswith(\"## intent: {intent_name}\".format(intent_name=intent)):\n",
    "            for each in f :\n",
    "                if each.startswith(\"## intent:\") :\n",
    "                    break\n",
    "                lignes.append(each)\n",
    "    for element in lignes :\n",
    "        new_element = element[2:-1]\n",
    "        lignes_pret.append(new_element)          \n",
    "    return lignes_pret"
   ]
  },
  {
   "cell_type": "code",
   "execution_count": 226,
   "metadata": {},
   "outputs": [
    {
     "data": {
      "text/plain": [
       "['this is the sentence 1',\n",
       " 'this is the sentence 2',\n",
       " 'this is the sentence 3',\n",
       " 'this is the sentence 4',\n",
       " 'this is the sentence 5',\n",
       " 'this is the sentence 6',\n",
       " 'this is the sentence 7',\n",
       " 'this is the sentence 8',\n",
       " 'this is the sentence 9']"
      ]
     },
     "execution_count": 226,
     "metadata": {},
     "output_type": "execute_result"
    }
   ],
   "source": [
    "find_msgs_by_intent_from_nlu(\"data\\\\nlu.md\",\"<PUT YOU INTENT 1 NAME HERE>\")"
   ]
  },
  {
   "cell_type": "code",
   "execution_count": 227,
   "metadata": {},
   "outputs": [],
   "source": [
    "def fetch_intents_from_nlu(path):\n",
    "    list_intent = []\n",
    "    list_intent_syn =[]\n",
    "    fichier = open(r'{}\\nlu.md'.format(path), \"r\")\n",
    "    for line in fichier:\n",
    "        if line.startswith(\"## intent: \"):\n",
    "            substring = line[11:]\n",
    "            substring = substring.replace(\"\\n\",\"\")\n",
    "            intent_syn = line\n",
    "            list_intent_syn.append(intent_syn)\n",
    "            list_intent.append(substring)\n",
    "    fichier.close()\n",
    "    return list_intent"
   ]
  },
  {
   "cell_type": "code",
   "execution_count": 228,
   "metadata": {},
   "outputs": [
    {
     "data": {
      "text/plain": [
       "['greet',\n",
       " 'goodbye',\n",
       " 'thank you',\n",
       " '<PUT YOU INTENT 1 NAME HERE>',\n",
       " '<PUT YOU INTENT 2 NAME HERE>',\n",
       " '<PUT YOU INTENT 3 NAME HERE>']"
      ]
     },
     "execution_count": 228,
     "metadata": {},
     "output_type": "execute_result"
    }
   ],
   "source": [
    "fetch_intents_from_nlu(\"data\")"
   ]
  },
  {
   "cell_type": "code",
   "execution_count": 240,
   "metadata": {},
   "outputs": [],
   "source": [
    "def create_rasa_files(path, create_files_path):\n",
    "    \"\"\"\n",
    "    Converts an CSV file created with the specified format to RASA accepted nlu.md format\n",
    "    :param path: path where the CSV file is present\n",
    "    :param create_files_path: path where the nlu.md file needs to be created\n",
    "    :return: return nothing. A file is created in the path specified via create_files_path\n",
    "    \"\"\"\n",
    "    df = pd.read_csv(r\"{}\".format(path))\n",
    "    \n",
    "    file = open(r'{}\\nlu.md'.format(create_files_path), \"a\")\n",
    "    intents = list(df.columns)\n",
    "    \n",
    "    for item in intents:\n",
    "        if item not in fetch_intents(create_files_path):\n",
    "            file.write(\"## intent: {intent_name}\\n\".format(intent_name=item))\n",
    "            for sent in df[item]:\n",
    "                if type(sent) is str :\n",
    "                    file.write(\"- {}\\n\".format(sent))\n",
    "    file.close()\n",
    "    \n",
    "    file = open(r'{}\\nlu.md'.format(create_files_path), \"a\")\n",
    "    intents = list(df.columns)\n",
    "    for item in intents:\n",
    "        if item in fetch_intents(create_files_path):\n",
    "            print(item)\n",
    "            for sent in df[item]:\n",
    "                if type(sent) is str :\n",
    "                    #for each in file :\n",
    "                     #   if each.startswith(\"## intent: {intent_name}\".format(intent_name=item)) :\n",
    "                    file.write(\"- {}\\n\".format(sent))\n",
    "        file.write(\"**********\")\n",
    "        print(\"*****************\")\n",
    "    file.close()\n",
    "    \n",
    "        #else :\n",
    "         #   for sent in df[item]:\n",
    "                  #for line in file :\n",
    "                   # if line.startswith(\"## intent: {intent_name}\".format(intent_name=df[item])):\n",
    "                    #    current_intent= \"## intent: {intent_name}\".format(intent_name=df[item])\n",
    "                        #print(current_intent)\n",
    "                        #print(file.tell())\n",
    "                        # cursor set under intent name\n",
    "                        # condition if sent exists under that intent\n",
    "                     #   if type(sent) is str :\n",
    "                      #      file.write(\"- {}\\n\".format(sent))\n",
    "    \n",
    "    \"\"\"file = open(r'{}\\domain.yml'.format(create_files_path), \"a\")\n",
    "    file.write(\"intents:\\n\")\n",
    "    for intent_name in intents:\n",
    "        file.write(\"  - {}\\n\".format(intent_name))\n",
    "    file.write(\"actions:\\n\")\n",
    "    for intent_name in intents:\n",
    "        file.write(\"  - utter_{}\\n\".format(intent_name))\n",
    "    file.close()\"\"\"\n",
    "    return None"
   ]
  },
  {
   "cell_type": "code",
   "execution_count": 241,
   "metadata": {},
   "outputs": [
    {
     "name": "stdout",
     "output_type": "stream",
     "text": [
      "greet\n",
      "*****************\n",
      "goodbye\n",
      "*****************\n",
      "thank you\n",
      "*****************\n"
     ]
    }
   ],
   "source": [
    "create_rasa_files(\"greet.csv\",\"data\")"
   ]
  },
  {
   "cell_type": "code",
   "execution_count": null,
   "metadata": {},
   "outputs": [],
   "source": []
  },
  {
   "cell_type": "code",
   "execution_count": null,
   "metadata": {},
   "outputs": [],
   "source": []
  },
  {
   "cell_type": "code",
   "execution_count": null,
   "metadata": {},
   "outputs": [],
   "source": []
  },
  {
   "cell_type": "code",
   "execution_count": null,
   "metadata": {},
   "outputs": [],
   "source": []
  },
  {
   "cell_type": "code",
   "execution_count": null,
   "metadata": {},
   "outputs": [],
   "source": []
  },
  {
   "cell_type": "code",
   "execution_count": null,
   "metadata": {},
   "outputs": [],
   "source": []
  },
  {
   "cell_type": "code",
   "execution_count": null,
   "metadata": {},
   "outputs": [],
   "source": []
  },
  {
   "cell_type": "code",
   "execution_count": null,
   "metadata": {},
   "outputs": [],
   "source": []
  },
  {
   "cell_type": "code",
   "execution_count": 69,
   "metadata": {},
   "outputs": [],
   "source": [
    "  "
   ]
  },
  {
   "cell_type": "code",
   "execution_count": 83,
   "metadata": {},
   "outputs": [],
   "source": []
  },
  {
   "cell_type": "code",
   "execution_count": null,
   "metadata": {},
   "outputs": [],
   "source": []
  },
  {
   "cell_type": "code",
   "execution_count": null,
   "metadata": {},
   "outputs": [],
   "source": []
  },
  {
   "cell_type": "code",
   "execution_count": null,
   "metadata": {},
   "outputs": [],
   "source": []
  },
  {
   "cell_type": "code",
   "execution_count": 80,
   "metadata": {},
   "outputs": [],
   "source": []
  },
  {
   "cell_type": "code",
   "execution_count": 81,
   "metadata": {},
   "outputs": [
    {
     "name": "stdout",
     "output_type": "stream",
     "text": [
      "greet\n",
      "goodbye\n",
      "thank you\n"
     ]
    }
   ],
   "source": []
  },
  {
   "cell_type": "code",
   "execution_count": 63,
   "metadata": {},
   "outputs": [],
   "source": [
    "create_rasa_files(\"nlu_sample_format_for_conversion.csv\",\"data\")"
   ]
  },
  {
   "cell_type": "code",
   "execution_count": 92,
   "metadata": {},
   "outputs": [
    {
     "data": {
      "text/plain": [
       "['<PUT YOU INTENT 1 NAME HERE>',\n",
       " '<PUT YOU INTENT 2 NAME HERE>',\n",
       " '<PUT YOU INTENT 3 NAME HERE>',\n",
       " 'greet',\n",
       " 'goodbye',\n",
       " 'thank you',\n",
       " 'greet',\n",
       " 'goodbye',\n",
       " 'thank you']"
      ]
     },
     "execution_count": 92,
     "metadata": {},
     "output_type": "execute_result"
    }
   ],
   "source": []
  },
  {
   "cell_type": "code",
   "execution_count": null,
   "metadata": {},
   "outputs": [],
   "source": []
  },
  {
   "cell_type": "code",
   "execution_count": 209,
   "metadata": {},
   "outputs": [],
   "source": []
  },
  {
   "cell_type": "code",
   "execution_count": 211,
   "metadata": {},
   "outputs": [
    {
     "data": {
      "text/plain": [
       "['this is the sentence 1',\n",
       " 'this is the sentence 2',\n",
       " 'this is the sentence 3',\n",
       " 'this is the sentence 4',\n",
       " 'this is the sentence 5',\n",
       " 'this is the sentence 6',\n",
       " 'this is the sentence 7',\n",
       " 'this is the sentence 8',\n",
       " 'this is the sentence 9']"
      ]
     },
     "execution_count": 211,
     "metadata": {},
     "output_type": "execute_result"
    }
   ],
   "source": []
  },
  {
   "cell_type": "code",
   "execution_count": 217,
   "metadata": {},
   "outputs": [],
   "source": []
  },
  {
   "cell_type": "code",
   "execution_count": 218,
   "metadata": {},
   "outputs": [
    {
     "data": {
      "text/plain": [
       "['greet',\n",
       " 'goodbye',\n",
       " 'thank you',\n",
       " '<PUT YOU INTENT 1 NAME HERE>',\n",
       " '<PUT YOU INTENT 2 NAME HERE>',\n",
       " '<PUT YOU INTENT 3 NAME HERE>']"
      ]
     },
     "execution_count": 218,
     "metadata": {},
     "output_type": "execute_result"
    }
   ],
   "source": []
  },
  {
   "cell_type": "code",
   "execution_count": null,
   "metadata": {},
   "outputs": [],
   "source": [
    "def fetch_intents_msg(path):\n",
    "    list_intent_msg = []\n",
    "    list_intents = fetch_intents(path)\n",
    "    fichier = open(r'{}\\nlu.md'.format(path), \"r\")\n",
    "    for line in fichier:\n",
    "        if line in fetch_intents(path)[1] :\n",
    "            fichier.\n",
    "            print (line)\n",
    "            \n",
    "    fichier.close()"
   ]
  }
 ],
 "metadata": {
  "kernelspec": {
   "display_name": "Python 3",
   "language": "python",
   "name": "python3"
  },
  "language_info": {
   "codemirror_mode": {
    "name": "ipython",
    "version": 3
   },
   "file_extension": ".py",
   "mimetype": "text/x-python",
   "name": "python",
   "nbconvert_exporter": "python",
   "pygments_lexer": "ipython3",
   "version": "3.7.6"
  }
 },
 "nbformat": 4,
 "nbformat_minor": 4
}
