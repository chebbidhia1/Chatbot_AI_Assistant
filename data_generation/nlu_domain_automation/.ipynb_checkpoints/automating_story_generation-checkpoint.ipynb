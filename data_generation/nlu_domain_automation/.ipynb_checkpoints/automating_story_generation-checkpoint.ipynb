{
 "cells": [
  {
   "cell_type": "code",
   "execution_count": 10,
   "metadata": {},
   "outputs": [],
   "source": [
    "import pandas as pd\n",
    "import re\n",
    "import os\n",
    "import random"
   ]
  },
  {
   "cell_type": "code",
   "execution_count": 41,
   "metadata": {},
   "outputs": [],
   "source": [
    "class fill_nlu_domain_intetns:\n",
    "    \n",
    "    def fetch_story_names(self, path , story_name ):\n",
    "        \n",
    "        \"\"\" from a stories file (path) search for stories having the same name (story_name) + a different number  --> and returns the max number of stories sharing the same name \"\"\"\n",
    "    \n",
    "        file = open(r'{}\\stories.md'.format(path), \"r\")\n",
    "        liste_names=[]\n",
    "        for each in file:\n",
    "            if each.startswith(\"## {story_name} \".format(story_name=story_name)):\n",
    "                each.split()\n",
    "                substr2=each[-4:]\n",
    "                liste_names.append(substr2)\n",
    "        \n",
    "        liste_names = [ int(i) for i in liste_names] \n",
    "        if liste_names != [] : \n",
    "            number_max=max(liste_names)\n",
    "        else :\n",
    "            number_max=0\n",
    "            \n",
    "        return number_max \n",
    "    \n",
    "    def generate_slot(self,path_dataset,slot_name):\n",
    "        \"\"\"\n",
    "        from dataset csv (path) generate a message having as type the (slot_name)\n",
    "        \"\"\"\n",
    "        dataset= pd.read_csv(path_dataset)\n",
    "        random_subset = dataset[slot_name].sample(n=1)\n",
    "        to_change = str(random_subset)\n",
    "        word = to_change[5:-27].strip()\n",
    "        if \"\\n\" in word :\n",
    "            word= word[:word.find(\"\\n\")]\n",
    "        return word\n",
    "    \n",
    "    def find_elem(self,value):\n",
    "        \"\"\"\n",
    "        finding the (value) to change later from a well defined syntax\n",
    "        \"\"\"\n",
    "        elements = re.findall(r' \\\"[\\w*\\s*]*\\b',value)\n",
    "        element=elements[0]\n",
    "        ele = element.replace(\"\\\"\",\"\")\n",
    "        ele2=ele.strip()\n",
    "        return ele2\n",
    "    \n",
    "    def generate_stories_same_path(self,path,story_name,number_stories):\n",
    "        import re\n",
    "        \"\"\"    Converts an CSV file created with the specified format to RASA accepted nlu.md format\n",
    "        :param path: path where the CSV file is present\\n\n",
    "        :param story_name: which story should be duplicated\\n\n",
    "        :param number_stories: number of generated stories \\n\n",
    "        :return: return nothing. A file is created in the path specified via create_files_path\\n    \"\"\"\n",
    "        file = open(r'{}\\stories.md'.format(path), \"r\")\n",
    "        found=False\n",
    "        liste_generated_stories = []\n",
    "        start_story_pos=0\n",
    "        end_story_pos=0\n",
    "        string_list = file.readlines()\n",
    "        for index, value in enumerate(string_list):\n",
    "            if value == \"## {story_name}\\n\".format(story_name=story_name):\n",
    "                start_story_pos = index\n",
    "                found = True\n",
    "            if value.startswith(\"## \") and found == True and value != \"## {story_name}\\n\".format(story_name=story_name)   :\n",
    "                end_story_pos = index\n",
    "                break\n",
    "                print(end_story_pos)\n",
    "        file.close()\n",
    "        indice= self.fetch_story_names(path,story_name+\" generated story\")\n",
    "        to_generate_from = string_list[start_story_pos:end_story_pos]\n",
    "        for i in range(number_stories) :\n",
    "            liste_generated_stories.append(to_generate_from)\n",
    "        file = open(r'{}\\stories.md'.format(path), \"w\")    \n",
    "    #print(to_generate_from)\n",
    "    #print(liste_generated_stories)\n",
    "\n",
    "        \"\"\"for index , value in enumerate(liste_generated_stories):\n",
    "            for index2 , value2 in enumerate(liste_generated_stories[index]):\"\"\"\n",
    "        for index1 , value1 in enumerate(liste_generated_stories) :\n",
    "            org_id_change = self.generate_slot(\"greet.csv\",\"org_id\")\n",
    "            ws_id_change = self.generate_slot(\"greet.csv\",\"ws_id\")\n",
    "            stream_id_change = self.generate_slot(\"greet.csv\",\"stream_id\")\n",
    "            task_name_change = self.generate_slot(\"greet.csv\",\"task_name\")\n",
    "            task_priority_change = self.generate_slot(\"greet.csv\",\"task_priority\")\n",
    "            name_change = self.generate_slot(\"greet.csv\",\"names\")\n",
    "            for index2 , value2 in enumerate(value1) :\n",
    "            \n",
    "                if value2[3:].replace(\"\\n\",\"\") == story_name :\n",
    "                    value2.replace(\"\\n\",\"\")\n",
    "                    value2 = value2.replace(\"\\n\",\"\") + \" generated story {number} \\n \".format(number=index1+ indice + 1)\n",
    "                    string_list.insert(end_story_pos + index2 , value2 )\n",
    "                elif value2[2:].startswith(\"name\") or value2[6:].startswith(\"slot{\\\"name\\\"\")  :\n",
    "                    string_list.insert(end_story_pos + index2 , re.sub(self.find_elem(value2),name_change,value2) )\n",
    "                elif \"\\\"org_id\\\":\" in value2 :\n",
    "                    string_list.insert(end_story_pos + index2 , re.sub(self.find_elem(value2),org_id_change,value2) )\n",
    "                elif \"\\\"ws_id\\\":\" in value2 :\n",
    "                    string_list.insert(end_story_pos + index2 , re.sub(self.find_elem(value2),ws_id_change,value2) )\n",
    "                elif \"\\\"stream_id\\\":\" in value2 :\n",
    "                    string_list.insert(end_story_pos + index2 , re.sub(self.find_elem(value2),stream_id_change,value2) )\n",
    "                elif \"\\\"task_name\\\":\" in value2 :\n",
    "                    string_list.insert(end_story_pos + index2 , re.sub(self.find_elem(value2),task_name_change,value2) )\n",
    "                \n",
    "                elif \"\\\"task_priority\\\":\" in value2 :\n",
    "                    string_list.insert(end_story_pos + index2 , re.sub(self.find_elem(value2),task_priority_change,value2) )\n",
    "                else :\n",
    "                    string_list.insert(end_story_pos + index2 , value2 )\n",
    "  \n",
    "        new_file_contents = \"\".join(string_list)\n",
    "        file.write(new_file_contents)\n",
    "        file.close()"
   ]
  },
  {
   "cell_type": "code",
   "execution_count": 42,
   "metadata": {},
   "outputs": [],
   "source": [
    "obj = fill_nlu_domain_intetns()"
   ]
  },
  {
   "cell_type": "code",
   "execution_count": 43,
   "metadata": {},
   "outputs": [
    {
     "data": {
      "text/plain": [
       "0"
      ]
     },
     "execution_count": 43,
     "metadata": {},
     "output_type": "execute_result"
    }
   ],
   "source": [
    "obj.fetch_story_names(\"data\",\"create task happy path generated story\")"
   ]
  },
  {
   "cell_type": "code",
   "execution_count": 44,
   "metadata": {},
   "outputs": [
    {
     "data": {
      "text/plain": [
       "'jasser'"
      ]
     },
     "execution_count": 44,
     "metadata": {},
     "output_type": "execute_result"
    }
   ],
   "source": [
    "obj.find_elem(\"* name\\{\\\"name\\\": \\\"jasser\\\"\\}\")"
   ]
  },
  {
   "cell_type": "code",
   "execution_count": 45,
   "metadata": {},
   "outputs": [
    {
     "data": {
      "text/plain": [
       "'develop new techniques to improve the program'"
      ]
     },
     "execution_count": 45,
     "metadata": {},
     "output_type": "execute_result"
    }
   ],
   "source": [
    "obj.generate_slot(\"greet.csv\",\"task_name\")"
   ]
  },
  {
   "cell_type": "code",
   "execution_count": 46,
   "metadata": {},
   "outputs": [],
   "source": [
    "obj.generate_stories_same_path(\"data\",\"create task happy path\",3)"
   ]
  },
  {
   "cell_type": "code",
   "execution_count": 48,
   "metadata": {},
   "outputs": [],
   "source": [
    "obj.generate_stories_same_path(\"data\",\"\\\"create task\\\" stop and really stop (deny) path\",4)"
   ]
  },
  {
   "cell_type": "code",
   "execution_count": 49,
   "metadata": {},
   "outputs": [],
   "source": [
    "obj.generate_stories_same_path(\"data\",\"\\\"create task\\\" stop but continue (deny) path\",6)"
   ]
  },
  {
   "cell_type": "code",
   "execution_count": null,
   "metadata": {},
   "outputs": [],
   "source": []
  },
  {
   "cell_type": "code",
   "execution_count": null,
   "metadata": {},
   "outputs": [],
   "source": []
  },
  {
   "cell_type": "code",
   "execution_count": null,
   "metadata": {},
   "outputs": [],
   "source": []
  },
  {
   "cell_type": "code",
   "execution_count": null,
   "metadata": {},
   "outputs": [],
   "source": []
  },
  {
   "cell_type": "code",
   "execution_count": null,
   "metadata": {},
   "outputs": [],
   "source": []
  },
  {
   "cell_type": "code",
   "execution_count": null,
   "metadata": {},
   "outputs": [],
   "source": []
  },
  {
   "cell_type": "code",
   "execution_count": null,
   "metadata": {},
   "outputs": [],
   "source": []
  },
  {
   "cell_type": "code",
   "execution_count": null,
   "metadata": {},
   "outputs": [],
   "source": []
  },
  {
   "cell_type": "code",
   "execution_count": null,
   "metadata": {},
   "outputs": [],
   "source": []
  }
 ],
 "metadata": {
  "kernelspec": {
   "display_name": "Python 3",
   "language": "python",
   "name": "python3"
  },
  "language_info": {
   "codemirror_mode": {
    "name": "ipython",
    "version": 3
   },
   "file_extension": ".py",
   "mimetype": "text/x-python",
   "name": "python",
   "nbconvert_exporter": "python",
   "pygments_lexer": "ipython3",
   "version": "3.7.6"
  }
 },
 "nbformat": 4,
 "nbformat_minor": 4
}
