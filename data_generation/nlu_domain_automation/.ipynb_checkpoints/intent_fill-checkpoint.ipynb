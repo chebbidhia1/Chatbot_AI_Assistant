{
 "cells": [
  {
   "cell_type": "code",
   "execution_count": 1,
   "metadata": {},
   "outputs": [],
   "source": [
    "import pandas as pd\n",
    "import re\n",
    "import os"
   ]
  },
  {
   "cell_type": "code",
   "execution_count": 2,
   "metadata": {},
   "outputs": [],
   "source": [
    "def find_msgs_by_intent_from_nlu(chemin,intent):\n",
    "    f = open(chemin)\n",
    "    lignes_pret=[]\n",
    "    lignes=[]\n",
    "    for each in f:\n",
    "        if each.startswith(\"## intent: {intent_name}\".format(intent_name=intent)):\n",
    "            for each in f :\n",
    "                if each.startswith(\"## intent:\") :\n",
    "                    break\n",
    "                lignes.append(each)\n",
    "    for element in lignes :\n",
    "        new_element = element[2:-1]\n",
    "        lignes_pret.append(new_element)          \n",
    "    return lignes_pret"
   ]
  },
  {
   "cell_type": "code",
   "execution_count": 3,
   "metadata": {},
   "outputs": [
    {
     "data": {
      "text/plain": [
       "[]"
      ]
     },
     "execution_count": 3,
     "metadata": {},
     "output_type": "execute_result"
    }
   ],
   "source": [
    "find_msgs_by_intent_from_nlu(\"data\\\\nlu.md\",\"greet\")"
   ]
  },
  {
   "cell_type": "code",
   "execution_count": 4,
   "metadata": {},
   "outputs": [],
   "source": [
    "def fetch_intents_from_nlu(path):\n",
    "    list_intent = []\n",
    "    list_intent_syn =[]\n",
    "    fichier = open(r'{}\\nlu.md'.format(path), \"r\")\n",
    "    for line in fichier:\n",
    "        if line.startswith(\"## intent: \"):\n",
    "            substring = line[11:]\n",
    "            substring = substring.replace(\"\\n\",\"\")\n",
    "            intent_syn = line\n",
    "            list_intent_syn.append(intent_syn)\n",
    "            list_intent.append(substring)\n",
    "    fichier.close()\n",
    "    return list_intent"
   ]
  },
  {
   "cell_type": "code",
   "execution_count": 5,
   "metadata": {},
   "outputs": [
    {
     "data": {
      "text/plain": [
       "[]"
      ]
     },
     "execution_count": 5,
     "metadata": {},
     "output_type": "execute_result"
    }
   ],
   "source": [
    "fetch_intents_from_nlu(\"data\")"
   ]
  },
  {
   "cell_type": "code",
   "execution_count": 6,
   "metadata": {},
   "outputs": [],
   "source": [
    "def fetch_intents_from_domain(path):\n",
    "    list_intent = []\n",
    "    list_intent_syn =[]\n",
    "    fichier = open(r'{}\\domain.yml'.format(path), \"r\")\n",
    "    for line in fichier:\n",
    "        if line.startswith(\"- \") and not line.startswith(\"- utter\") :\n",
    "            print(line)\n",
    "            substring = line[2:]\n",
    "            substring = substring.replace(\"\\n\",\"\")\n",
    "            intent_syn = line\n",
    "            list_intent_syn.append(intent_syn)\n",
    "            list_intent.append(substring)\n",
    "    fichier.close()\n",
    "    return list_intent"
   ]
  },
  {
   "cell_type": "code",
   "execution_count": 8,
   "metadata": {},
   "outputs": [
    {
     "data": {
      "text/plain": [
       "[]"
      ]
     },
     "execution_count": 8,
     "metadata": {},
     "output_type": "execute_result"
    }
   ],
   "source": [
    "fetch_intents_from_domain(\"data\")"
   ]
  },
  {
   "cell_type": "code",
   "execution_count": 11,
   "metadata": {},
   "outputs": [],
   "source": [
    "def create_rasa_files(path, create_files_path):\n",
    "    \"\"\"    Converts an CSV file created with the specified format to RASA accepted nlu.md format\n",
    "    :param path: path where the CSV file is present\n",
    "    :param create_files_path: path where the nlu.md file needs to be created\\n\n",
    "    :return: return nothing. A file is created in the path specified via create_files_path\\n    \"\"\"\n",
    "    msg_to_add = []\n",
    "    list_csv=[]  \n",
    "    actions_pos=0\n",
    "    intent_pos=0\n",
    "    nb=0\n",
    "    \n",
    "    df = pd.read_csv(r\"{}\".format(path)) \n",
    "    file = open(r'{}\\nlu.md'.format(create_files_path), \"a\")\n",
    "    intents = list(df.columns)    #case when intent does not exist in nlu.md\n",
    "    for item in intents:  \n",
    "        if item not in fetch_intents_from_nlu(create_files_path):   \n",
    "            file.write(\"## intent: {intent_name}\\n\".format(intent_name=item))\n",
    "            for sent in df[item]:\n",
    "                if type(sent) is str :\n",
    "                    file.write(\"- {}\\n\".format(sent))\n",
    "    file.close()   \n",
    "                #case when intent exists in nlu.md : add new messages only in the right position\\n   \n",
    "                #ile = open(r\\'{}\\\\nlu.md\\'.format(create_files_path), \"a+\")\n",
    "            \n",
    "            \n",
    "    for item in intents:\n",
    "        \n",
    "        if item in fetch_intents_from_nlu(create_files_path):\n",
    "            msgs_nlu = find_msgs_by_intent_from_nlu(\"data\\\\nlu.md\",item)\n",
    "            \n",
    "            \n",
    "            \n",
    "        print(\"**************** what exists in nlu\")\n",
    "        print(msgs_nlu)\n",
    "        for i in df[item] :\n",
    "            if i not in msgs_nlu and type(i) is str :\n",
    "                msg_to_add.append(i)                   \n",
    "        print(\"**************** msg to add\")\n",
    "        print(msg_to_add)           \n",
    "                \n",
    "        print(item)\n",
    "        \n",
    "        my_file = open(r'{}\\nlu.md'.format(create_files_path))\n",
    "        string_list = my_file.readlines()\n",
    "        for index, value in enumerate(string_list):\n",
    "            if value == \"## intent: {intent_name}\\n\".format(intent_name=item):\n",
    "                intent_pos = index\n",
    "                print(value)\n",
    "        my_file.close()\n",
    "        print(intent_pos)\n",
    "        if msg_to_add != [] :\n",
    "            \n",
    "            my_file = open(r'{}\\nlu.md'.format(create_files_path), \"w\")\n",
    "            for index, value in enumerate(msg_to_add):\n",
    "                string_list.insert(intent_pos+1+index , '- {new_msg}\\n'.format(new_msg=value))\n",
    "            new_file_contents = \"\".join(string_list)\n",
    "            my_file.write(new_file_contents)\n",
    "            msg_to_add = []\n",
    "            my_file.close()\n",
    "        \n",
    "                             \n",
    "    file = open(r'{}\\domain.yml'.format(create_files_path), \"w\")\n",
    "    \n",
    "    if os.stat(\"data\\\\domain.yml\").st_size == 0 :\n",
    "        file.write(\"intents:\\n\")\n",
    "        file.write(\"actions:\\n\")\n",
    "        \n",
    "    file.close()\n",
    "                                                                                \n",
    "    nb=0                                                                            \n",
    "    for intent_name in intents:\n",
    "        \n",
    "        if intent_name not in fetch_intents_from_domain(create_files_path) :\n",
    "            nb=nb+1\n",
    "            file = open(r'{}\\domain.yml'.format(create_files_path))\n",
    "            string_list = file.readlines()\n",
    "            for index, value in enumerate(string_list):\n",
    "                if value == \"intents:\\n\":\n",
    "                    intent_pos = index\n",
    "                if value == \"actions:\\n\":\n",
    "                    actions_pos = index\n",
    "            my_file.close()\n",
    "            my_file = open(r'{}\\domain.yml'.format(create_files_path), \"w\") \n",
    "            string_list.insert(intent_pos+1 ,'- {new_msg}\\n'.format(new_msg=intent_name))\n",
    "            string_list.insert(actions_pos+1+nb , \"- utter_{}\\n\".format(intent_name))\n",
    "            new_file_contents = \"\".join(string_list)\n",
    "            my_file.write(new_file_contents)\n",
    "            my_file.close()"
   ]
  },
  {
   "cell_type": "code",
   "execution_count": 18,
   "metadata": {},
   "outputs": [
    {
     "name": "stdout",
     "output_type": "stream",
     "text": [
      "**************** what exists in nlu\n",
      "['hey', 'hello', 'hi', 'good morning', 'good evening', 'good afternoon', 'hey there', 'hello robot', 'hiiiiiiiiiiiiii']\n",
      "**************** msg to add\n",
      "['bonjourrrr', 'salut', 'beh lkhir']\n",
      "greet\n",
      "## intent: greet\n",
      "\n",
      "0\n",
      "**************** what exists in nlu\n",
      "['byyyyye', 'bye', 'ciaoo', 'guten morgen', 'see you later', 'great bye bye', 'thank you bye', 'goodnight', 'good bye', 'byyyyye', 'bye', 'ciaoo', 'guten morgen', 'see you later', 'great bye bye', 'thank you bye', 'goodnight', 'good bye', 'byyyyye', 'bye', 'ciaoo', 'guten morgen', 'see you later', 'great bye bye', 'thank you bye', 'goodnight', 'good bye']\n",
      "**************** msg to add\n",
      "[]\n",
      "goodbye\n",
      "## intent: goodbye\n",
      "\n",
      "## intent: goodbye\n",
      "\n",
      "## intent: goodbye\n",
      "\n",
      "74\n",
      "**************** what exists in nlu\n",
      "['merciiii', 'okay cool uh thank you', 'okay thank you', 'you rock', 'and thats all thank you', 'sorry about my mistakes thank you', 'meera thank you', 'thank you for the opportunity to work with you. I appreciate it very much', 'merciiii', 'okay cool uh thank you', 'okay thank you', 'you rock', 'and thats all thank you', 'sorry about my mistakes thank you', 'meera thank you', 'thank you for the opportunity to work with you. I appreciate it very much', 'merciiii', 'okay cool uh thank you', 'okay thank you', 'you rock', 'and thats all thank you', 'sorry about my mistakes thank you', 'meera thank you', 'thank you for the opportunity to work with you. I appreciate it very much']\n",
      "**************** msg to add\n",
      "[]\n",
      "thank you\n",
      "## intent: thank you\n",
      "\n",
      "## intent: thank you\n",
      "\n",
      "## intent: thank you\n",
      "\n",
      "84\n",
      "- greet\n",
      "\n",
      "- goodbye\n",
      "\n",
      "- greet\n",
      "\n"
     ]
    }
   ],
   "source": [
    "create_rasa_files(\"greet.csv\",\"data\")"
   ]
  },
  {
   "cell_type": "code",
   "execution_count": null,
   "metadata": {},
   "outputs": [],
   "source": []
  },
  {
   "cell_type": "code",
   "execution_count": null,
   "metadata": {},
   "outputs": [],
   "source": []
  },
  {
   "cell_type": "code",
   "execution_count": null,
   "metadata": {},
   "outputs": [],
   "source": []
  },
  {
   "cell_type": "code",
   "execution_count": null,
   "metadata": {},
   "outputs": [],
   "source": []
  },
  {
   "cell_type": "code",
   "execution_count": null,
   "metadata": {},
   "outputs": [],
   "source": []
  },
  {
   "cell_type": "code",
   "execution_count": null,
   "metadata": {},
   "outputs": [],
   "source": []
  },
  {
   "cell_type": "code",
   "execution_count": null,
   "metadata": {},
   "outputs": [],
   "source": []
  },
  {
   "cell_type": "code",
   "execution_count": null,
   "metadata": {},
   "outputs": [],
   "source": []
  }
 ],
 "metadata": {
  "kernelspec": {
   "display_name": "Python 3",
   "language": "python",
   "name": "python3"
  },
  "language_info": {
   "codemirror_mode": {
    "name": "ipython",
    "version": 3
   },
   "file_extension": ".py",
   "mimetype": "text/x-python",
   "name": "python",
   "nbconvert_exporter": "python",
   "pygments_lexer": "ipython3",
   "version": "3.7.6"
  }
 },
 "nbformat": 4,
 "nbformat_minor": 4
}
